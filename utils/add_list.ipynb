{
 "cells": [
  {
   "cell_type": "code",
   "execution_count": null,
   "metadata": {},
   "outputs": [],
   "source": [
    "import json\n",
    "def add_data(json_file):\n",
    "    with open(\"xxxx/LLaMA-Factory/data/dataset_info.json\", \"r\") as file:\n",
    "        dataset_info = json.load(file)\n",
    "    with open(json_file, \"r\") as file:\n",
    "        data = json.load(file)\n",
    "    for i in data:\n",
    "        if \"image\" in i.keys():\n",
    "            i[\"image\"]=[i[\"image\"]]\n",
    "        else:\n",
    "            i[\"image\"]=[]\n",
    "        if \"id\" in i.keys():\n",
    "            i[\"id\"]=str(i[\"id\"])\n",
    "    dataset_name=f\"{json_file.split(\"/\")[-1].replace(\".json\",\"\")}_tr.json\"\n",
    "    with open(dataset_name, \"w\") as file:\n",
    "        json.dump(data, file, indent=4)\n",
    "    new_dict = {\n",
    "    f'{dataset_name.replace(\".json\",\"\")}':\n",
    "    {\n",
    "        \"file_name\": f\"{dataset_name}\",\n",
    "        \"formatting\": \"sharegpt\",\n",
    "        \"columns\": { \n",
    "        \"messages\": \"conversations\",\n",
    "        \"images\": \"image\"  \n",
    "      }\n",
    "      }\n",
    "    }\n",
    "    dataset_info.update(new_dict)\n",
    "    with open(\"xxxx/LLaMA-Factory/data/dataset_info.json\", \"w\") as file:\n",
    "        json.dump(dataset_info, file, indent=4)"
   ]
  },
  {
   "cell_type": "code",
   "execution_count": null,
   "metadata": {},
   "outputs": [],
   "source": [
    "add_data_list=[\n",
    "    # \"2000_vlguard_train_llava_format_5000_llava_v1_5_mix665k\",\n",
    "\n",
    "]\n",
    "for i in add_data_list:\n",
    "    add_data(f\"xxxx/MLLM_safety_study/trial_dataset/{i}.json\")\n"
   ]
  }
 ],
 "metadata": {
  "kernelspec": {
   "display_name": "factory",
   "language": "python",
   "name": "python3"
  },
  "language_info": {
   "codemirror_mode": {
    "name": "ipython",
    "version": 3
   },
   "file_extension": ".py",
   "mimetype": "text/x-python",
   "name": "python",
   "nbconvert_exporter": "python",
   "pygments_lexer": "ipython3",
   "version": "3.12.0"
  }
 },
 "nbformat": 4,
 "nbformat_minor": 2
}
